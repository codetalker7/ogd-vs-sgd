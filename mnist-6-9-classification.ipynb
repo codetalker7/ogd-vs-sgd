{
 "cells": [
  {
   "cell_type": "code",
   "execution_count": 1,
   "id": "f5ca260f",
   "metadata": {},
   "outputs": [],
   "source": [
    "import numpy as np\n",
    "from MNISTBinary import MNISTBinary\n",
    "from VanillaGD import VanillaGD\n",
    "from SGD import SGD"
   ]
  },
  {
   "cell_type": "code",
   "execution_count": 2,
   "id": "d2af243c",
   "metadata": {},
   "outputs": [],
   "source": [
    "#importing the 6-9 training set\n",
    "dataset_6_9 = MNISTBinary('./mnist_binary/train/mnist_6_9.csv')\n",
    "\n",
    "#getting the data as numpy arrays\n",
    "X = dataset_6_9.getData()\n",
    "Y = dataset_6_9.getLabels()\n",
    "\n",
    "#training vanilla GD and SGD with these sets\n",
    "ogd_classifier = VanillaGD(X, Y, 6, 9)\n",
    "sgd_classifier = SGD(X, Y, 6, 9)"
   ]
  },
  {
   "cell_type": "code",
   "execution_count": 3,
   "id": "378dea36",
   "metadata": {},
   "outputs": [
    {
     "name": "stdout",
     "output_type": "stream",
     "text": [
      "OGD Training time: 175.26541924476624\n",
      "SGD Training time: 0.03348112106323242\n"
     ]
    }
   ],
   "source": [
    "#getting training times for both\n",
    "#parameters: T = 1000, lambda = 0.8\n",
    "ogd_classifier.train(1000, 0.8)\n",
    "sgd_classifier.train(1000, 0.8)"
   ]
  },
  {
   "cell_type": "code",
   "execution_count": 4,
   "id": "d3e1b5f1",
   "metadata": {},
   "outputs": [],
   "source": [
    "#testing the classifiers\n",
    "#getting test data\n",
    "dataset_6_9 = MNISTBinary('./mnist_binary/test/mnist_6_9.csv')\n",
    "X_test = dataset_6_9.getData()\n",
    "Y_test = dataset_6_9.getLabels()"
   ]
  },
  {
   "cell_type": "code",
   "execution_count": 5,
   "id": "63fb3c01",
   "metadata": {},
   "outputs": [
    {
     "name": "stdout",
     "output_type": "stream",
     "text": [
      "OGD Accuracy: 0.9959328927300457\n",
      "SGD Accuracy: 0.9852567361464158\n"
     ]
    }
   ],
   "source": [
    "#getting accuracies of ogd and sgd\n",
    "print('OGD Accuracy: ' + str(ogd_classifier.getTestAccuracy(X_test, Y_test)))\n",
    "print('SGD Accuracy: ' + str(sgd_classifier.getTestAccuracy(X_test, Y_test)))"
   ]
  },
  {
   "cell_type": "code",
   "execution_count": null,
   "id": "eb1a9e67",
   "metadata": {},
   "outputs": [],
   "source": []
  }
 ],
 "metadata": {
  "kernelspec": {
   "display_name": "Python 3",
   "language": "python",
   "name": "python3"
  },
  "language_info": {
   "codemirror_mode": {
    "name": "ipython",
    "version": 3
   },
   "file_extension": ".py",
   "mimetype": "text/x-python",
   "name": "python",
   "nbconvert_exporter": "python",
   "pygments_lexer": "ipython3",
   "version": "3.8.8"
  }
 },
 "nbformat": 4,
 "nbformat_minor": 5
}
