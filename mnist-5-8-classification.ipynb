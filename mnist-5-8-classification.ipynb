{
 "cells": [
  {
   "cell_type": "code",
   "execution_count": 1,
   "id": "00a27dd5",
   "metadata": {},
   "outputs": [],
   "source": [
    "import numpy as np\n",
    "from MNISTBinary import MNISTBinary\n",
    "from VanillaGD import VanillaGD\n",
    "from SGD import SGD"
   ]
  },
  {
   "cell_type": "code",
   "execution_count": 2,
   "id": "8a545282",
   "metadata": {},
   "outputs": [],
   "source": [
    "#importing the 5-8 training set\n",
    "dataset_5_8 = MNISTBinary('./mnist_binary/train/mnist_5_8.csv')\n",
    "\n",
    "#getting the data as numpy arrays\n",
    "X = dataset_5_8.getData()\n",
    "Y = dataset_5_8.getLabels()\n",
    "\n",
    "#training vanilla GD and SGD with these sets\n",
    "ogd_classifier = VanillaGD(X, Y, 5, 8)\n",
    "sgd_classifier = SGD(X, Y, 5, 8)"
   ]
  },
  {
   "cell_type": "code",
   "execution_count": 3,
   "id": "e88bb978",
   "metadata": {},
   "outputs": [
    {
     "name": "stdout",
     "output_type": "stream",
     "text": [
      "OGD Training time: 9.205324411392212\n",
      "SGD Training time: 0.002671957015991211\n"
     ]
    }
   ],
   "source": [
    "#getting training times for both\n",
    "#parameters: T = 50, lambda = 0.4\n",
    "ogd_classifier.train(50, 0.4)\n",
    "sgd_classifier.train(50, 0.4)"
   ]
  },
  {
   "cell_type": "code",
   "execution_count": 4,
   "id": "58454d92",
   "metadata": {},
   "outputs": [],
   "source": [
    "#testing the classifiers\n",
    "#getting test data\n",
    "test_data_5_8 = MNISTBinary('./mnist_binary/test/mnist_5_8.csv')\n",
    "X_test = test_data_5_8.getData()\n",
    "Y_test = test_data_5_8.getLabels()"
   ]
  },
  {
   "cell_type": "code",
   "execution_count": 5,
   "id": "183f87ec",
   "metadata": {},
   "outputs": [
    {
     "name": "stdout",
     "output_type": "stream",
     "text": [
      "OGD Accuracy: 0.9292604501607717\n",
      "SGD Accuracy: 0.6596998928188639\n"
     ]
    }
   ],
   "source": [
    "#getting accuracies of ogd and sgd\n",
    "print('OGD Accuracy: ' + str(ogd_classifier.getTestAccuracy(X_test, Y_test)))\n",
    "print('SGD Accuracy: ' + str(sgd_classifier.getTestAccuracy(X_test, Y_test)))"
   ]
  },
  {
   "cell_type": "code",
   "execution_count": null,
   "id": "21908f97",
   "metadata": {},
   "outputs": [],
   "source": []
  }
 ],
 "metadata": {
  "kernelspec": {
   "display_name": "Python 3",
   "language": "python",
   "name": "python3"
  },
  "language_info": {
   "codemirror_mode": {
    "name": "ipython",
    "version": 3
   },
   "file_extension": ".py",
   "mimetype": "text/x-python",
   "name": "python",
   "nbconvert_exporter": "python",
   "pygments_lexer": "ipython3",
   "version": "3.8.8"
  }
 },
 "nbformat": 4,
 "nbformat_minor": 5
}
