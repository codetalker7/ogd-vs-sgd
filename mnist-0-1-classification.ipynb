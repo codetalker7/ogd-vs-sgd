{
 "cells": [
  {
   "cell_type": "code",
   "execution_count": 1,
   "id": "258b6b52",
   "metadata": {},
   "outputs": [],
   "source": [
    "import numpy as np\n",
    "from MNISTBinary import MNISTBinary\n",
    "from VanillaGD import VanillaGD\n",
    "from SGD import SGD"
   ]
  },
  {
   "cell_type": "code",
   "execution_count": 2,
   "id": "76479784",
   "metadata": {},
   "outputs": [],
   "source": [
    "#importing the 0-1 training set\n",
    "dataset_0_1 = MNISTBinary('./mnist_binary/train/mnist_0_1.csv')\n",
    "\n",
    "#getting the data as numpy arrays\n",
    "X = dataset_0_1.getData()\n",
    "Y = dataset_0_1.getLabels()\n",
    "\n",
    "#training vanilla GD and SGD with these sets\n",
    "ogd_classifier = VanillaGD(X, Y, 0, 1)\n",
    "sgd_classifier = SGD(X, Y, 0, 1)"
   ]
  },
  {
   "cell_type": "code",
   "execution_count": 3,
   "id": "b98ca890",
   "metadata": {},
   "outputs": [
    {
     "name": "stdout",
     "output_type": "stream",
     "text": [
      "OGD Training time: 20.83104944229126\n",
      "SGD Training time: 0.004035472869873047\n"
     ]
    }
   ],
   "source": [
    "#getting training times for both\n",
    "#parameters: T = 100, lambda = 0.6\n",
    "ogd_classifier.train(100, 0.6)\n",
    "sgd_classifier.train(100, 0.6)"
   ]
  },
  {
   "cell_type": "code",
   "execution_count": 4,
   "id": "4e658aa4",
   "metadata": {},
   "outputs": [],
   "source": [
    "#testing the classifiers\n",
    "#getting test data\n",
    "test_data_0_1 = MNISTBinary('./mnist_binary/test/mnist_0_1.csv')\n",
    "X_test = test_data_0_1.getData()\n",
    "Y_test = test_data_0_1.getLabels()"
   ]
  },
  {
   "cell_type": "code",
   "execution_count": 5,
   "id": "28078fbd",
   "metadata": {},
   "outputs": [
    {
     "name": "stdout",
     "output_type": "stream",
     "text": [
      "OGD Accuracy: 0.9976359338061466\n",
      "SGD Accuracy: 0.9962174940898345\n"
     ]
    }
   ],
   "source": [
    "#getting accuracies of ogd and sgd\n",
    "print('OGD Accuracy: ' + str(ogd_classifier.getTestAccuracy(X_test, Y_test)))\n",
    "print('SGD Accuracy: ' + str(sgd_classifier.getTestAccuracy(X_test, Y_test)))"
   ]
  }
 ],
 "metadata": {
  "kernelspec": {
   "display_name": "Python 3",
   "language": "python",
   "name": "python3"
  },
  "language_info": {
   "codemirror_mode": {
    "name": "ipython",
    "version": 3
   },
   "file_extension": ".py",
   "mimetype": "text/x-python",
   "name": "python",
   "nbconvert_exporter": "python",
   "pygments_lexer": "ipython3",
   "version": "3.8.8"
  }
 },
 "nbformat": 4,
 "nbformat_minor": 5
}
